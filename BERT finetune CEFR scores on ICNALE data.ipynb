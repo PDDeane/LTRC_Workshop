{
 "cells": [
  {
   "cell_type": "markdown",
   "id": "5567dc47",
   "metadata": {},
   "source": [
    "<br><br>\n",
    "<font size=\"5\">**First step: Import libraries**</font>\n",
    "<br> <font size=\"4\">(You may get some warnings about ONEDNN here. They can safely be ignored.)<font>\n",
    "<br>    \n",
    "<font size=\"4\">The libraries listed here are a lot of the \"usual suspects\" for doing machine learning analysis with deep learning models.</font>\n",
    "- <font size=\"4\">NUMPY is the numerical python library commonly used to do linear algebra operations of various sorts.</font>\n",
    "- <font size=\"4\">PANDAS is a library designed to make manipulation of data much easier and more convenient.</font>\n",
    "- <font size=\"4\">CSV is a library for importing and exporting data in \"comma-separated value\" format.</font>\n",
    "- <font size=\"4\">MATPLOTLIB is a library for displaying graphs and charts.</font>\n",
    "- <font size=\"4\">SKLEARN is scikit-learn, one of the most important libraries for machine learning applications.</font>\n",
    "- <font size=\"4\">TORCH is a library for running neural network models, including deep learning models. The other major library is TENSORFLOW.</font>\n",
    "- <font size=\"4\">TRANSFORMERS, DATASETS, EVALUATE, and LOGGING are libraries provided by HuggingFace, the major place to get open source, trained deep learning models.</font>\n",
    "    \n",
    "<font size=\"4\">Note that this demo is an adaptation of the following tutorial:</font><br><br>\n",
    "<font size=\"4\">Regression with Text Input Using BERT and Transformers(https://lajavaness.medium.com/regression-with-text-input-using-bert-and-transformers-71c155034b13)</font>\n",
    "<br><br>\n"
   ]
  },
  {
   "cell_type": "code",
   "execution_count": 1,
   "id": "6ac91494",
   "metadata": {},
   "outputs": [],
   "source": [
    "import numpy as np\n",
    "import pandas as pd\n",
    "import csv\n",
    "import matplotlib.pyplot as plt\n",
    "from sklearn.model_selection import train_test_split\n",
    "import torch\n",
    "from torch.utils.data import DataLoader\n",
    "from transformers import AutoTokenizer, AutoModelForSequenceClassification, DataCollatorWithPadding\n",
    "from transformers import TrainingArguments\n",
    "from transformers import Trainer\n",
    "from datasets import Dataset\n",
    "from datasets import load_metric\n",
    "import evaluate\n",
    "from sklearn.metrics import mean_absolute_error\n",
    "from sklearn.metrics import mean_squared_error\n",
    "from sklearn.metrics import r2_score\n",
    "import logging\n",
    "logging.disable(logging.INFO)"
   ]
  },
  {
   "cell_type": "markdown",
   "id": "7c702260",
   "metadata": {},
   "source": [
    "<br><br>\n",
    "<font size=\"4\">**Next Step:** Set up to run BERT, one of the most popular deep learning models. It's not as powerful as the latest generation of large language models, like OpenAI's, but it's a good model to run to get a baseline.</font>\n",
    "- <font size=\"4\">BASE_MODEL specifies which HuggingFace library we're going to load. In this case, it's the base BERT model. This is a pretrained transformer model whose weights have been set to make the neural network predict what words go in what contexts.</font>\n",
    "- <font size=\"4\">LEARNING_RATE specifies how quickly the weights in the untrained part of the model will be adjusted to fine-tune the model to the task we're training it to do..</font>\n",
    "- <font size=\"4\">MAX_LENGTH is very important, and it reflects one of the limitations of the transformer model. It's the maximum number of tokens that can be processed by the model. Maximum for BERT is 512, but I set it to 256 here because on my machine (and probably most machines you're likely to have) a greater length will hit memory limitations. This means we'll only be taking the first 256 tokens of every essay. Running with 512 would improve the model, if you have the machine to do it.</font>\n",
    "- <font size=\"4\">BATCH_SIZE is the number of cases pulled and run TOGETHER during training. Larger batch sizes make for more effective learning, but take a lot more memory. 16 or 32 are the usual settings.</font>\n",
    "- <font size=\"4\">EPOCHS is how often we'll iterate through the entire training dataset. 20 is a LOT of training for fine-tuning. Normally models settle to a reasonable number in 2-4 epochs. I'm using the 20 setting here as that will give us a chance to see how the model learning process proceeds. With 20 epochs, the model might overfit, but we'll see if that's true when we run cross-validation.</font>\n",
    "<br>\n",
    "<br>\n",
    "\n",
    "<font size=\"4\">**The major other setup steps are:** </font>\n",
    "- <font size=\"4\">to set up variables that tell the model how many classes there are and what their labels are (that's id2label and label2id)</font>\n",
    "- <font size=\"4\">figure out what devices are available (a GPU, which uses the CUDA library, or just the cpu),</font>\n",
    "- <font size=\"4\">initialize the tokenizer</font>\n",
    "- <font size=\"4\">initialize the model</font>\n",
    "<br>\n",
    "<br>\n",
    "<font size=\"4\">Note that Autotokenizer and AutoModelForSequenceClassification are HuggingFace classes.</font>\n",
    "<br>\n",
    "<font size=\"4\">(When you run this, you will get warnings basically telling you that you are initializing a model for classification that has not yet been fine-tuned. This is expected.)</font>\n",
    "<br><br>\n"
   ]
  },
  {
   "cell_type": "code",
   "execution_count": 2,
   "id": "ba46d5c3",
   "metadata": {},
   "outputs": [
    {
     "name": "stderr",
     "output_type": "stream",
     "text": [
      "Some weights of the model checkpoint at bert-base-uncased were not used when initializing BertForSequenceClassification: ['cls.predictions.transform.LayerNorm.bias', 'cls.predictions.bias', 'cls.predictions.decoder.weight', 'cls.predictions.transform.dense.bias', 'cls.seq_relationship.bias', 'cls.predictions.transform.LayerNorm.weight', 'cls.predictions.transform.dense.weight', 'cls.seq_relationship.weight']\n",
      "- This IS expected if you are initializing BertForSequenceClassification from the checkpoint of a model trained on another task or with another architecture (e.g. initializing a BertForSequenceClassification model from a BertForPreTraining model).\n",
      "- This IS NOT expected if you are initializing BertForSequenceClassification from the checkpoint of a model that you expect to be exactly identical (initializing a BertForSequenceClassification model from a BertForSequenceClassification model).\n",
      "Some weights of BertForSequenceClassification were not initialized from the model checkpoint at bert-base-uncased and are newly initialized: ['classifier.weight', 'classifier.bias']\n",
      "You should probably TRAIN this model on a down-stream task to be able to use it for predictions and inference.\n"
     ]
    },
    {
     "name": "stdout",
     "output_type": "stream",
     "text": [
      "device cuda\n"
     ]
    }
   ],
   "source": [
    "BASE_MODEL = \"bert-base-uncased\"\n",
    "LEARNING_RATE = 2e-5\n",
    "MAX_LENGTH = 256\n",
    "BATCH_SIZE = 16\n",
    "EPOCHS = 20\n",
    "\n",
    "# Let's name the classes 0, 1, 2, 3, 4 like their indices\n",
    "id2label = {k:k for k in range(6)}\n",
    "label2id = {k:k for k in range(6)}\n",
    "\n",
    "device = torch.device('cuda' if torch.cuda.is_available() else 'cpu')\n",
    "tokenizer = AutoTokenizer.from_pretrained(BASE_MODEL)\n",
    "tokenizer.add_special_tokens({'pad_token': '[PAD]'})\n",
    "model = AutoModelForSequenceClassification.from_pretrained(BASE_MODEL, id2label=id2label, label2id=label2id)\n",
    "print('device', device)"
   ]
  },
  {
   "cell_type": "markdown",
   "id": "309546ac",
   "metadata": {},
   "source": [
    "<br><br>\n",
    "**<font size=\"4\">Next Step: Load the ICNALE Corpus data.</font>**\n",
    "\n",
    "<font size=\"4\">We are using the file names from this corpus to assign CEFR levels, since most of the files code that information directly. For the spoken dialog files, which don't, we're loading a csv file that gives us the mapping to CEFR levels indirectly.</font>\n",
    "\n",
    "- <font size=\"4\">ICNALE_SD_CEFR_LEVELS.csv is a file taken directly from the ICNALE download. It has all the demographic and performance data about individuals who produced spoken dialogs.</font>\n",
    "- <font size=\"4\">ICNALE_DOCS.CSV is a file I produced that has all the corpus texts in one place. It only contains the file name for each text (which directly encodes much of the critical information about task and user ids and in most cases, CEFR level)</font>\n",
    "- <font size=\"4\">I am transforming CEFR levels into an ordinal scale, reflecting the levels distingushed by the ICNALE Corpus. Thus:</font>\n",
    "1. <font size=\"4\">1 = CEFR Level A2</font>\n",
    "2. <font size=\"4\">2 = CEFR Level B1_1</font>\n",
    "3. <font size=\"4\">3 = CEFR Level B1_2</font>\n",
    "4. <font size=\"4\">4 = CEFR Level B2</font>\n",
    "5. <font size=\"4\">5 = English native speakers (presumably, at levels C1 or C2)</font>\n",
    "<br><br>\n"
   ]
  },
  {
   "cell_type": "code",
   "execution_count": 3,
   "id": "a01fdf8d",
   "metadata": {},
   "outputs": [],
   "source": [
    "text = []\n",
    "labels = []\n",
    "sd_cefr_levels = {}\n",
    "ds = []  \n",
    "\n",
    "with open('ICNALE_SD_CEFR_LEVELS.csv', 'r', encoding='utf=8') as datasheet:\n",
    "    for line in csv.reader(datasheet):\n",
    "        if len(line)>2:\n",
    "            country = line[0]\n",
    "            speaker = line[1]\n",
    "            level = line[2]\n",
    "            sublevel = '0'\n",
    "            if len(line)>3:\n",
    "                sublevel = line[3]\n",
    "                if country not in sd_cefr_levels:\n",
    "                    sd_cefr_levels[country] = {}\n",
    "                if speaker not in sd_cefr_levels[country]:\n",
    "                    sd_cefr_levels[country][speaker] = [level, sublevel]\n",
    "            elif country == 'ENS':\n",
    "                if country not in sd_cefr_levels:\n",
    "                    sd_cefr_levels[country] = {}\n",
    "                sd_cefr_levels[country][speaker] = [level, sublevel]\n",
    "              \n",
    "with open('icnale_docs.csv', 'r', encoding='utf=8') as data:\n",
    "    for line in csv.reader(data):\n",
    "        index = line[0]\n",
    "        index_array = index.split('_')\n",
    "        if len(index_array)>2:\n",
    "            entry = {}\n",
    "            entry['id'] = index\n",
    "            str_en = line[1].encode(\"ascii\", \"ignore\")\n",
    "            entry['text'] = str_en.decode()\n",
    "    \n",
    "            entry['score'] = 6\n",
    "            if len(index_array)>5 and index_array[4] == 'A2':\n",
    "                labels.append(1)\n",
    "                entry['score'] = 1\n",
    "            elif len(index_array)>5 and index_array[4] == 'B1' and index_array[5] == '1':\n",
    "                labels.append(2)\n",
    "                entry['score'] = 2\n",
    "            elif len(index_array)>5 and index_array[4] == 'B1' and index_array[5] == '2':\n",
    "                labels.append(3)\n",
    "                entry['score'] = 3\n",
    "            elif len(index_array)>5 and index_array[4] == 'B2':\n",
    "                labels.append(4)\n",
    "                entry['score'] = 4\n",
    "            elif len(index_array)>2 and (index_array[0] == 'ENS' or index_array[1] == 'ENS'):\n",
    "                labels.append(5)\n",
    "                entry['score'] = 5\n",
    "            else:\n",
    "                if len(index_array)>2:\n",
    "                  level_id = index_array[0]\n",
    "                  sublevel_id = index_array[1]\n",
    "                  if level_id in sd_cefr_levels and sublevel_id in sd_cefr_levels[level_id]:\n",
    "                      level = sd_cefr_levels[level_id][sublevel_id][0]\n",
    "                      sublevel = sd_cefr_levels[level_id][sublevel_id][1]\n",
    "                      if level == 'A2':\n",
    "                          labels.append(1)\n",
    "                          entry['score'] = 1\n",
    "                      elif level == 'B1' and sublevel == '1':\n",
    "                          labels.append(2)\n",
    "                          entry['score'] = 2\n",
    "                      elif level == 'B1' and sublevel == '2':\n",
    "                          labels.append(3)\n",
    "                          entry['score'] = 3\n",
    "                      elif level == 'B2':\n",
    "                          entry['score'] = 4\n",
    "                          labels.append(4)\n",
    "                      else:\n",
    "                          print('skipped', level_id, sublevel_id)\n",
    "                          labels.append(-1)\n",
    "                          entry['score'] = -1\n",
    "                  else:\n",
    "                      print('skipped', level_id, sublevel_id, sd_cefr_levels[level_id].keys())\n",
    "                else:\n",
    "                    print('skipped', index_array[0], index_array[1])\n",
    "            text.append(line[1])\n",
    "            ds.append(entry)\n"
   ]
  },
  {
   "cell_type": "markdown",
   "id": "b5a28fb3",
   "metadata": {},
   "source": [
    "<br><br>\n",
    "**<font size=\"4\">Next Step: Divide the data up into training, validation, and test sets.</font>**\n",
    "\n",
    "<font size=\"4\">The SKLEARN library train_test_split is the usual function to use to split data into train and test sets. In this case, we apply it twice, since we're subdividing the data into </font>\n",
    "- <font size=\"4\">A TRAINING SET (used to train the deep learning model)</font>\n",
    "- <font size=\"4\">A VALIDATION SET (used to correct the deep learning model as it iterates through the training data to adjust model weights)</font>\n",
    "- <font size=\"4\">A TEST SET (held out till the end to use to evaluate the final model)</font>\n",
    "<br><br>\n"
   ]
  },
  {
   "cell_type": "code",
   "execution_count": 4,
   "id": "a2f83df9",
   "metadata": {},
   "outputs": [],
   "source": [
    "val_ratio = 0.4\n",
    "\n",
    "train, test = train_test_split(ds, test_size=val_ratio)\n",
    "val, test = train_test_split(test, test_size=0.5)\n",
    "\n",
    "raw_train_ds = Dataset.from_list(train)\n",
    "raw_val_ds = Dataset.from_list(val)\n",
    "raw_test_ds = Dataset.from_list(test)\n",
    "final_ds = {\"train\": raw_train_ds, \"validation\": raw_val_ds, \"test\": raw_test_ds}\n"
   ]
  },
  {
   "cell_type": "markdown",
   "id": "0446e98b",
   "metadata": {},
   "source": [
    "<br><br>\n",
    "**<font size=\"4\">Preprocessing Function</font>**\n",
    "\n",
    "<font size=\"4\">This is a function that preprocess the data into the transformer input format appropriate for BERT. It applies the tokenizer and reads in the numeric score as categorical (integer) data, since the first model we run is going to have 5 categories corresponding to the CEFR levels we're distinguishing.</font>\n",
    "<br><br>\n"
   ]
  },
  {
   "cell_type": "code",
   "execution_count": 5,
   "id": "1af964cf",
   "metadata": {},
   "outputs": [
    {
     "data": {
      "application/vnd.jupyter.widget-view+json": {
       "model_id": "",
       "version_major": 2,
       "version_minor": 0
      },
      "text/plain": [
       "Map:   0%|          | 0/9457 [00:00<?, ? examples/s]"
      ]
     },
     "metadata": {},
     "output_type": "display_data"
    },
    {
     "data": {
      "application/vnd.jupyter.widget-view+json": {
       "model_id": "",
       "version_major": 2,
       "version_minor": 0
      },
      "text/plain": [
       "Map:   0%|          | 0/3152 [00:00<?, ? examples/s]"
      ]
     },
     "metadata": {},
     "output_type": "display_data"
    },
    {
     "data": {
      "application/vnd.jupyter.widget-view+json": {
       "model_id": "",
       "version_major": 2,
       "version_minor": 0
      },
      "text/plain": [
       "Map:   0%|          | 0/3153 [00:00<?, ? examples/s]"
      ]
     },
     "metadata": {},
     "output_type": "display_data"
    }
   ],
   "source": [
    "def preprocess_function(examples):\n",
    "    label = examples[\"score\"] \n",
    "    examples = tokenizer(examples[\"text\"], truncation=True, padding=\"max_length\", max_length=256)\n",
    "    \n",
    "    # Change this to real number\n",
    "    examples[\"label\"] = label\n",
    "    return examples\n",
    "\n",
    "for split in final_ds:\n",
    "    final_ds[split] = final_ds[split].map(preprocess_function, remove_columns=[\"id\", \"text\", \"score\"])\n"
   ]
  },
  {
   "cell_type": "markdown",
   "id": "e301a413",
   "metadata": {},
   "source": [
    "<br><br>\n",
    "**<font size=\"4\">Set up the metrics we use for model training and evaluation</font>**\n",
    "\n",
    "<font size=\"4\">We're using the accuracy metric defined by the HuggingFace evaluate library as the basic metric for the model. Note that the deep learning model returns a tensor that's the output of the neural network training. It has a different float value for each of the 5 possible categories we're predicting. We use the numpy argmax function to figure out which of the 5 categories is the most probable.</font>\n",
    "<br><br>\n"
   ]
  },
  {
   "cell_type": "code",
   "execution_count": 6,
   "id": "f70f035d",
   "metadata": {},
   "outputs": [],
   "source": [
    "metric = evaluate.load(\"accuracy\")\n",
    "\n",
    "def compute_metrics(eval_pred):\n",
    "    logits, labels = eval_pred\n",
    "    predictions = np.argmax(logits, axis=-1)\n",
    "    return metric.compute(predictions=predictions, references=labels)"
   ]
  },
  {
   "cell_type": "markdown",
   "id": "9fa5c1a5",
   "metadata": {},
   "source": [
    "<br><br>\n",
    "**<font size=\"4\">Display the distribution of CEFR scores in the training, validation, and test sets.</font>**\n",
    "\n",
    "<font size=\"4\">We're using the matplotlib library to show how the data is distributed.</font>\n",
    "\n",
    "<font size=\"4\">Note that the 1-5 range is CEFR levels A2, B1_1, B1_2, B2. 5 is reserved for English native speakers.</font>\n",
    "<br><br>"
   ]
  },
  {
   "cell_type": "code",
   "execution_count": 7,
   "id": "2d4cbcd9",
   "metadata": {},
   "outputs": [
    {
     "data": {
      "image/png": "[encoded data removed]",
      "text/plain": [
       "<Figure size 640x480 with 3 Axes>"
      ]
     },
     "metadata": {},
     "output_type": "display_data"
    }
   ],
   "source": [
    "\n",
    "fig, axs = plt.subplots(1, 3, tight_layout=True)\n",
    "distributions = []\n",
    "axs[0].set_title(\"Train\"); axs[1].set_title(\"Validation\"); axs[2].set_title(\"Test\"); \n",
    "train_distributions = axs[0].hist(raw_train_ds[\"score\"], bins=5)\n",
    "val_distributions = axs[1].hist(raw_val_ds[\"score\"], bins=5)\n",
    "test_distributions = axs[2].hist(raw_test_ds[\"score\"], bins=5)\n",
    "\n",
    "for distributions, ax in zip([train_distributions, val_distributions, test_distributions], axs):\n",
    "    for j in range(5):\n",
    "        # Display the counts on each column of the histograms\n",
    "        ax.text(distributions[1][j], distributions[0][j], str(int(distributions[0][j])), weight=\"bold\")\n",
    "plt.show()\n"
   ]
  },
  {
   "cell_type": "markdown",
   "id": "c48c90ac",
   "metadata": {},
   "source": [
    "<br><br>\n",
    "**<font size=\"4\">Set up the training scheme.</font>**\n",
    "\n",
    "<font size=\"4\">This setup uses the HuggingFace Trainer library, which simplifies a lot of the setup for using a specific model. The settings worth taking note of here are:</font>\n",
    "- <font size=\"4\">WEIGHT_DECAY, which is a parameter of learning (basically, to keep the model from overfitting, it forgets a little as it learns)</font>\n",
    "- <font size=\"4\">METRIC_FOR_BEST_MODEL is set to accuracy, so the trainer can decide which model of all the EPOCHS is the best</font>\n",
    "- <font size=\"4\">LOAD_BEST_MODEL_AT_END is set to TRUE, which means that if the accuracy stops going up after a certain number of epochs, we'll choose an earlier epoch as the correct model if it has the best performance.</font>\n",
    "\n",
    "<font size=\"4\">Note that we're only using the training and validation datasets to train the model. We hold out the test data till the end.</font>\n",
    "\n",
    "\n",
    "<font size=\"4\">Note that at the very beginning of this notebook, I disabled logging. If you don't, a LOT of data gets stored off with every run, which can use up disk space surprisingly quickly.</font>\n",
    "<br><br>\n"
   ]
  },
  {
   "cell_type": "code",
   "execution_count": 9,
   "id": "0e5d8768",
   "metadata": {},
   "outputs": [],
   "source": [
    "training_args = TrainingArguments(\n",
    "    output_dir=\"../models/bert-fine-tuned-regression\",\n",
    "    learning_rate=LEARNING_RATE,\n",
    "    per_device_train_batch_size=BATCH_SIZE,\n",
    "    per_device_eval_batch_size=BATCH_SIZE,\n",
    "    num_train_epochs=EPOCHS,\n",
    "    evaluation_strategy=\"epoch\",\n",
    "    save_strategy=\"epoch\",\n",
    "    metric_for_best_model=\"accuracy\",\n",
    "    load_best_model_at_end=True,\n",
    "    weight_decay=0.01,\n",
    ")\n",
    "\n",
    "trainer = Trainer(\n",
    "    model=model,\n",
    "    args=training_args,\n",
    "    train_dataset=final_ds[\"train\"],\n",
    "    eval_dataset=final_ds[\"validation\"],\n",
    "    compute_metrics=compute_metrics\n",
    ")\n"
   ]
  },
  {
   "cell_type": "markdown",
   "id": "bdc79655",
   "metadata": {},
   "source": [
    "<br><br>\n",
    "**<font size=\"4\">Run the Trainer</font>**\n",
    "\n",
    "<font size=\"4\">Now we do the actual fine-tuning of BERT. </font>\n",
    "- <font size=\"4\">*Loss* is the metric the neural network uses to measure how much it has learned.\n",
    "The lower it is, the better.</font>\n",
    "- <font size=\"4\">Note that accuracy climbed until epoch 4, when it went up and down a bit, before stabilizing around .53 to .54. This suggests that 4 epochs would have given us decent results. But even so, the best results are at epoch 20.</font>\n",
    "<br><br>"
   ]
  },
  {
   "cell_type": "code",
   "execution_count": 10,
   "id": "59c4b682",
   "metadata": {
    "scrolled": true
   },
   "outputs": [
    {
     "name": "stderr",
     "output_type": "stream",
     "text": [
      "/home/paul/miniconda3/envs/bert/lib/python3.11/site-packages/transformers/optimization.py:407: FutureWarning: This implementation of AdamW is deprecated and will be removed in a future version. Use the PyTorch implementation torch.optim.AdamW instead, or set `no_deprecation_warning=True` to disable this warning\n",
      "  warnings.warn(\n"
     ]
    },
    {
     "data": {
      "text/html": [
       "\n",
       "    <div>\n",
       "      \n",
       "      <progress value='11840' max='11840' style='width:300px; height:20px; vertical-align: middle;'></progress>\n",
       "      [11840/11840 1:03:38, Epoch 20/20]\n",
       "    </div>\n",
       "    <table border=\"1\" class=\"dataframe\">\n",
       "  <thead>\n",
       " <tr style=\"text-align: left;\">\n",
       "      <th>Epoch</th>\n",
       "      <th>Training Loss</th>\n",
       "      <th>Validation Loss</th>\n",
       "      <th>Accuracy</th>\n",
       "    </tr>\n",
       "  </thead>\n",
       "  <tbody>\n",
       "    <tr>\n",
       "      <td>1</td>\n",
       "      <td>1.305200</td>\n",
       "      <td>1.188022</td>\n",
       "      <td>0.472716</td>\n",
       "    </tr>\n",
       "    <tr>\n",
       "      <td>2</td>\n",
       "      <td>1.105900</td>\n",
       "      <td>1.182044</td>\n",
       "      <td>0.484454</td>\n",
       "    </tr>\n",
       "    <tr>\n",
       "      <td>3</td>\n",
       "      <td>0.956100</td>\n",
       "      <td>1.241213</td>\n",
       "      <td>0.486358</td>\n",
       "    </tr>\n",
       "    <tr>\n",
       "      <td>4</td>\n",
       "      <td>0.779800</td>\n",
       "      <td>1.421060</td>\n",
       "      <td>0.507614</td>\n",
       "    </tr>\n",
       "    <tr>\n",
       "      <td>5</td>\n",
       "      <td>0.578700</td>\n",
       "      <td>1.634333</td>\n",
       "      <td>0.498414</td>\n",
       "    </tr>\n",
       "    <tr>\n",
       "      <td>6</td>\n",
       "      <td>0.309600</td>\n",
       "      <td>1.721996</td>\n",
       "      <td>0.526650</td>\n",
       "    </tr>\n",
       "    <tr>\n",
       "      <td>7</td>\n",
       "      <td>0.231700</td>\n",
       "      <td>2.394197</td>\n",
       "      <td>0.491434</td>\n",
       "    </tr>\n",
       "    <tr>\n",
       "      <td>8</td>\n",
       "      <td>0.186600</td>\n",
       "      <td>2.390304</td>\n",
       "      <td>0.511104</td>\n",
       "    </tr>\n",
       "    <tr>\n",
       "      <td>9</td>\n",
       "      <td>0.167100</td>\n",
       "      <td>2.815800</td>\n",
       "      <td>0.522525</td>\n",
       "    </tr>\n",
       "    <tr>\n",
       "      <td>10</td>\n",
       "      <td>0.129700</td>\n",
       "      <td>3.133488</td>\n",
       "      <td>0.518084</td>\n",
       "    </tr>\n",
       "    <tr>\n",
       "      <td>11</td>\n",
       "      <td>0.097100</td>\n",
       "      <td>3.320547</td>\n",
       "      <td>0.534264</td>\n",
       "    </tr>\n",
       "    <tr>\n",
       "      <td>12</td>\n",
       "      <td>0.075800</td>\n",
       "      <td>3.559116</td>\n",
       "      <td>0.530140</td>\n",
       "    </tr>\n",
       "    <tr>\n",
       "      <td>13</td>\n",
       "      <td>0.058900</td>\n",
       "      <td>3.540534</td>\n",
       "      <td>0.537437</td>\n",
       "    </tr>\n",
       "    <tr>\n",
       "      <td>14</td>\n",
       "      <td>0.051900</td>\n",
       "      <td>3.943217</td>\n",
       "      <td>0.533312</td>\n",
       "    </tr>\n",
       "    <tr>\n",
       "      <td>15</td>\n",
       "      <td>0.047100</td>\n",
       "      <td>3.995879</td>\n",
       "      <td>0.535216</td>\n",
       "    </tr>\n",
       "    <tr>\n",
       "      <td>16</td>\n",
       "      <td>0.036200</td>\n",
       "      <td>4.090867</td>\n",
       "      <td>0.529822</td>\n",
       "    </tr>\n",
       "    <tr>\n",
       "      <td>17</td>\n",
       "      <td>0.025400</td>\n",
       "      <td>4.101667</td>\n",
       "      <td>0.532995</td>\n",
       "    </tr>\n",
       "    <tr>\n",
       "      <td>18</td>\n",
       "      <td>0.021300</td>\n",
       "      <td>4.221994</td>\n",
       "      <td>0.537437</td>\n",
       "    </tr>\n",
       "    <tr>\n",
       "      <td>19</td>\n",
       "      <td>0.012400</td>\n",
       "      <td>4.216482</td>\n",
       "      <td>0.536802</td>\n",
       "    </tr>\n",
       "    <tr>\n",
       "      <td>20</td>\n",
       "      <td>0.010600</td>\n",
       "      <td>4.264283</td>\n",
       "      <td>0.540609</td>\n",
       "    </tr>\n",
       "  </tbody>\n",
       "</table><p>"
      ],
      "text/plain": [
       "<IPython.core.display.HTML object>"
      ]
     },
     "metadata": {},
     "output_type": "display_data"
    },
    {
     "data": {
      "text/plain": [
       "TrainOutput(global_step=11840, training_loss=0.2844806824584265, metrics={'train_runtime': 3819.1986, 'train_samples_per_second': 49.523, 'train_steps_per_second': 3.1, 'total_flos': 2.488330614196224e+16, 'train_loss': 0.2844806824584265, 'epoch': 20.0})"
      ]
     },
     "execution_count": 10,
     "metadata": {},
     "output_type": "execute_result"
    }
   ],
   "source": [
    "trainer.train()"
   ]
  },
  {
   "cell_type": "markdown",
   "id": "91eeb8e4",
   "metadata": {},
   "source": [
    "<br><br>\n",
    "**<font size=\"4\">Evaluate the final model on the held-out test dataset</font>**\n",
    "\n",
    "<font size=\"4\">We get an accuracy on the test dataset around .53, which suggests that our 20 runs didn't actually overfit. This is probably about as good a model was we're going to get on this dataset. .53 isn't great for most classification tasks. It's not actually as bad as it sounds here, as we'll see when we look at the confusion matrix.</font>\n",
    "<br><br>"
   ]
  },
  {
   "cell_type": "code",
   "execution_count": 11,
   "id": "e52c4786",
   "metadata": {},
   "outputs": [
    {
     "data": {
      "text/html": [
       "\n",
       "    <div>\n",
       "      \n",
       "      <progress value='198' max='198' style='width:300px; height:20px; vertical-align: middle;'></progress>\n",
       "      [198/198 00:18]\n",
       "    </div>\n",
       "    "
      ],
      "text/plain": [
       "<IPython.core.display.HTML object>"
      ]
     },
     "metadata": {},
     "output_type": "display_data"
    },
    {
     "data": {
      "text/plain": [
       "{'eval_loss': 4.334981441497803,\n",
       " 'eval_accuracy': 0.532825880114177,\n",
       " 'eval_runtime': 18.3529,\n",
       " 'eval_samples_per_second': 171.799,\n",
       " 'eval_steps_per_second': 10.788,\n",
       " 'epoch': 20.0}"
      ]
     },
     "execution_count": 11,
     "metadata": {},
     "output_type": "execute_result"
    }
   ],
   "source": [
    "trainer.eval_dataset=final_ds[\"test\"]\n",
    "trainer.evaluate()"
   ]
  },
  {
   "cell_type": "markdown",
   "id": "5d00e7ef",
   "metadata": {},
   "source": [
    "<br><br>\n",
    "**<font size=\"4\">Examine the confusion matrix for this model</font>**\n",
    "\n",
    "- <font size=\"4\">The confusion matrix shows us that most of the errors are on adjacent CEFR levels. I.e., A2 is mostly confused with B1_1. B1_1 is mostly confused with A2 and B1_2. B1_2 is mostly confused with B1_1 and B2. ENS is mostly confused with B2.</font>\n",
    "- <font size=\"4\">This means that the accuracy is really better than .53, but the accuracy metric only cares if you get the classification exactly right. Automated scoring models on an ordinal scale, like this 1-5 scale, often have a significant percentage of adjacent classifications, even for models that are fairly good.</font>\n",
    "<br><br>"
   ]
  },
  {
   "cell_type": "code",
   "execution_count": 12,
   "id": "72281a73",
   "metadata": {},
   "outputs": [
    {
     "data": {
      "image/png": "[encoded data removed]",
      "text/plain": [
       "<Figure size 640x480 with 2 Axes>"
      ]
     },
     "metadata": {},
     "output_type": "display_data"
    }
   ],
   "source": [
    "from sklearn import metrics\n",
    "\n",
    "y_preds = []\n",
    "\n",
    "for i in range(len(raw_test_ds)):\n",
    "    input_texts = raw_test_ds[i][\"text\"]\n",
    "    input_labels = raw_test_ds[i][\"score\"]\n",
    "    encoded = tokenizer(input_texts,\n",
    "                        truncation=True,\n",
    "                        padding=\"max_length\",\n",
    "                        max_length=256,\n",
    "                        return_tensors=\"pt\").to(\"cuda\")\n",
    "\n",
    "    with torch.no_grad():\n",
    "        logits = model(**encoded, return_dict=True).logits\n",
    "        y_preds.append(torch.argmax(logits.to('cpu')).item())\n",
    "\n",
    "cm = metrics.confusion_matrix(raw_test_ds['score'], y_preds)\n",
    "\n",
    "cm_display = metrics.ConfusionMatrixDisplay(confusion_matrix = cm,\n",
    "                                            display_labels = ['A2', 'B1_1', 'B1_2', 'B2', 'ENS'])\n",
    "\n",
    "cm_display.plot()\n",
    "plt.show()"
   ]
  },
  {
   "cell_type": "markdown",
   "id": "eddd9f2c",
   "metadata": {},
   "source": [
    "<br><br>\n",
    "<font size=\"4\">For this kind of data, quadratic weighted kappa (QWK) is a metric often used. It penalizes errors more severely, the larger they are, so that (for instance) confusing ENS with B2 is penalized a lot less than confusing ENS with A2.</font>\n",
    "\n",
    "<font size=\"4\">I'm using the following code to calculate quadratic weighted kappa in python (https://github.com/benhamner/Metrics/blob/master/Python/ml_metrics/quadratic_weighted_kappa.py).</font>\n",
    "\n",
    "<font size=\"4\">We get a QWK of about .68, which is decent but not great. Ideally we'd like to see a classifier get a QWK well above .70, if we want to call it a strong model.</font>\n",
    "\n",
    "<font size=\"4\">So it looks like our deep learning model is performing OK, but not great. We're able to tell with reasonable certainty whether someone's a native speaker, and roughly what CEFR band the native speakers are in, but not with grat precision.</font>\n",
    "<br><br>\n"
   ]
  },
  {
   "cell_type": "code",
   "execution_count": 13,
   "id": "36fad71f",
   "metadata": {},
   "outputs": [
    {
     "data": {
      "text/plain": [
       "0.6761978114389623"
      ]
     },
     "execution_count": 13,
     "metadata": {},
     "output_type": "execute_result"
    }
   ],
   "source": [
    "\n",
    "def confusion_matrix2(rater_a, rater_b, min_rating=None, max_rating=None):\n",
    "    \"\"\"\n",
    "    Returns the confusion matrix between rater's ratings\n",
    "    \"\"\"\n",
    "    assert(len(rater_a) == len(rater_b))\n",
    "    if min_rating is None:\n",
    "        min_rating = min(rater_a + rater_b)\n",
    "    if max_rating is None:\n",
    "        max_rating = max(rater_a + rater_b)\n",
    "    num_ratings = int(max_rating - min_rating + 1)\n",
    "    conf_mat = [[0 for i in range(num_ratings)]\n",
    "                for j in range(num_ratings)]\n",
    "    for a, b in zip(rater_a, rater_b):\n",
    "        conf_mat[a - min_rating][b - min_rating] += 1\n",
    "    return conf_mat\n",
    "\n",
    "\n",
    "def histogram(ratings, min_rating=None, max_rating=None):\n",
    "    \"\"\"\n",
    "    Returns the counts of each type of rating that a rater made\n",
    "    \"\"\"\n",
    "    if min_rating is None:\n",
    "        min_rating = min(ratings)\n",
    "    if max_rating is None:\n",
    "        max_rating = max(ratings)\n",
    "    num_ratings = int(max_rating - min_rating + 1)\n",
    "    hist_ratings = [0 for x in range(num_ratings)]\n",
    "    for r in ratings:\n",
    "        hist_ratings[r - min_rating] += 1\n",
    "    return hist_ratings\n",
    "\n",
    "def quadratic_weighted_kappa(rater_a, rater_b, min_rating=None, max_rating=None):\n",
    "    \"\"\"\n",
    "    Calculates the quadratic weighted kappa\n",
    "    quadratic_weighted_kappa calculates the quadratic weighted kappa\n",
    "    value, which is a measure of inter-rater agreement between two raters\n",
    "    that provide discrete numeric ratings.  Potential values range from -1\n",
    "    (representing complete disagreement) to 1 (representing complete\n",
    "    agreement).  A kappa value of 0 is expected if all agreement is due to\n",
    "    chance.\n",
    "\n",
    "    quadratic_weighted_kappa(rater_a, rater_b), where rater_a and rater_b\n",
    "    each correspond to a list of integer ratings.  These lists must have the\n",
    "    same length.\n",
    "\n",
    "    The ratings should be integers, and it is assumed that they contain\n",
    "    the complete range of possible ratings.\n",
    "\n",
    "    quadratic_weighted_kappa(X, min_rating, max_rating), where min_rating\n",
    "    is the minimum possible rating, and max_rating is the maximum possible\n",
    "    rating\n",
    "    \"\"\"\n",
    "    rater_a = np.array(rater_a, dtype=int)\n",
    "    rater_b = np.array(rater_b, dtype=int)\n",
    "    assert(len(rater_a) == len(rater_b))\n",
    "    if min_rating is None:\n",
    "        min_rating = min(min(rater_a), min(rater_b))\n",
    "    if max_rating is None:\n",
    "        max_rating = max(max(rater_a), max(rater_b))\n",
    "    conf_mat = confusion_matrix2(rater_a, rater_b,\n",
    "                                min_rating, max_rating)\n",
    "    num_ratings = len(conf_mat)\n",
    "    num_scored_items = float(len(rater_a))\n",
    "\n",
    "    hist_rater_a = histogram(rater_a, min_rating, max_rating)\n",
    "    hist_rater_b = histogram(rater_b, min_rating, max_rating)\n",
    "\n",
    "    numerator = 0.0\n",
    "    denominator = 0.0\n",
    "\n",
    "    for i in range(num_ratings):\n",
    "        for j in range(num_ratings):\n",
    "            expected_count = (hist_rater_a[i] * hist_rater_b[j]\n",
    "                              / num_scored_items)\n",
    "            d = pow(i - j, 2.0) / pow(num_ratings - 1, 2.0)\n",
    "            numerator += d * conf_mat[i][j] / num_scored_items\n",
    "            denominator += d * expected_count / num_scored_items\n",
    "\n",
    "    return 1.0 - numerator / denominator\n",
    "\n",
    "quadratic_weighted_kappa(raw_test_ds['score'], y_preds, 0, 6)"
   ]
  },
  {
   "cell_type": "markdown",
   "id": "b7602417",
   "metadata": {},
   "source": [
    "<br><br>\n",
    "**<font size=\"4\">Reset model to run a regression</font>**\n",
    "\n",
    "<font size=\"4\">Running the fine-tuning with 5 categories makes no assumptions about the relationships among the categories. So it's possible we'd get better results by running the model as a regression. The BERT model runs a regression if we set the number of categories, to 1.</font>\n",
    "<br><br>"
   ]
  },
  {
   "cell_type": "code",
   "execution_count": 14,
   "id": "af733e20",
   "metadata": {},
   "outputs": [
    {
     "name": "stderr",
     "output_type": "stream",
     "text": [
      "Some weights of the model checkpoint at bert-base-uncased were not used when initializing BertForSequenceClassification: ['cls.predictions.transform.LayerNorm.bias', 'cls.predictions.bias', 'cls.predictions.decoder.weight', 'cls.predictions.transform.dense.bias', 'cls.seq_relationship.bias', 'cls.predictions.transform.LayerNorm.weight', 'cls.predictions.transform.dense.weight', 'cls.seq_relationship.weight']\n",
      "- This IS expected if you are initializing BertForSequenceClassification from the checkpoint of a model trained on another task or with another architecture (e.g. initializing a BertForSequenceClassification model from a BertForPreTraining model).\n",
      "- This IS NOT expected if you are initializing BertForSequenceClassification from the checkpoint of a model that you expect to be exactly identical (initializing a BertForSequenceClassification model from a BertForSequenceClassification model).\n",
      "Some weights of BertForSequenceClassification were not initialized from the model checkpoint at bert-base-uncased and are newly initialized: ['classifier.weight', 'classifier.bias']\n",
      "You should probably TRAIN this model on a down-stream task to be able to use it for predictions and inference.\n"
     ]
    }
   ],
   "source": [
    "BASE_MODEL = \"bert-base-uncased\"\n",
    "LEARNING_RATE = 2e-5\n",
    "MAX_LENGTH = 256\n",
    "BATCH_SIZE = 16\n",
    "EPOCHS = 20\n",
    "\n",
    "tokenizer = AutoTokenizer.from_pretrained(BASE_MODEL)\n",
    "model = AutoModelForSequenceClassification.from_pretrained(BASE_MODEL, num_labels=1)\n"
   ]
  },
  {
   "cell_type": "markdown",
   "id": "1003ef9a",
   "metadata": {},
   "source": [
    "<br><br>\n",
    "**<font size=\"4\">Redefine the preprocess function**</font>\n",
    "\n",
    "<font size=\"4\">We need the outcome variable is a float variable if we're going to run BERT as a regressor.</font>\n",
    "<br><br>"
   ]
  },
  {
   "cell_type": "code",
   "execution_count": 15,
   "id": "f2a7c60f",
   "metadata": {},
   "outputs": [],
   "source": [
    "def preprocess_function2(examples):\n",
    "    label = examples[\"score\"] \n",
    "    examples = tokenizer(examples[\"text\"], truncation=True, padding=\"max_length\", max_length=256)\n",
    "    \n",
    "    # Change this to real number\n",
    "    examples[\"label\"] = float(label)\n",
    "    return examples\n"
   ]
  },
  {
   "cell_type": "markdown",
   "id": "898b89b9",
   "metadata": {},
   "source": [
    "<br><br>\n",
    "**<font size=\"4\">Reset the data using the new reprocess function</font>**\n",
    "<br><br>"
   ]
  },
  {
   "cell_type": "code",
   "execution_count": 16,
   "id": "42db255b",
   "metadata": {},
   "outputs": [
    {
     "data": {
      "application/vnd.jupyter.widget-view+json": {
       "model_id": "",
       "version_major": 2,
       "version_minor": 0
      },
      "text/plain": [
       "Map:   0%|          | 0/9457 [00:00<?, ? examples/s]"
      ]
     },
     "metadata": {},
     "output_type": "display_data"
    },
    {
     "data": {
      "application/vnd.jupyter.widget-view+json": {
       "model_id": "",
       "version_major": 2,
       "version_minor": 0
      },
      "text/plain": [
       "Map:   0%|          | 0/3152 [00:00<?, ? examples/s]"
      ]
     },
     "metadata": {},
     "output_type": "display_data"
    },
    {
     "data": {
      "application/vnd.jupyter.widget-view+json": {
       "model_id": "",
       "version_major": 2,
       "version_minor": 0
      },
      "text/plain": [
       "Map:   0%|          | 0/3153 [00:00<?, ? examples/s]"
      ]
     },
     "metadata": {},
     "output_type": "display_data"
    }
   ],
   "source": [
    "final_ds = {\"train\": raw_train_ds, \"validation\": raw_val_ds, \"test\": raw_test_ds}\n",
    "for split in final_ds:\n",
    "    final_ds[split] = final_ds[split].map(preprocess_function2, remove_columns=[\"id\", \"text\", \"score\"])\n"
   ]
  },
  {
   "cell_type": "markdown",
   "id": "44509502",
   "metadata": {},
   "source": [
    "<br><br>\n",
    "**<font size=\"4\">Define metrics for regression</font>**\n",
    "\n",
    "<font size=\"4\">The metrics we use for regression are different than metrics we use for classification.</font>\n",
    "- <font size=\"4\">Error is predicted value minus absolute value. MSE squares that and takes the average, which penalizes more for larger errors. MAE just takes the absolute value of the error and takes the average, which doesn't penalize large errors so severely. R2 (r squared) is the correlation between predicted and true values, squared, again penalizing weaker relations between actual and predicted scores more strongly.</font>\n",
    "<br><br>"
   ]
  },
  {
   "cell_type": "code",
   "execution_count": 17,
   "id": "06183a2b",
   "metadata": {},
   "outputs": [],
   "source": [
    "def compute_metrics_for_regression(eval_pred):\n",
    "    logits, labels = eval_pred\n",
    "    labels = labels.reshape(-1, 1)\n",
    "    \n",
    "    mse = mean_squared_error(labels, logits)\n",
    "    mae = mean_absolute_error(labels, logits)\n",
    "    r2 = r2_score(labels, logits)\n",
    "    single_squared_errors = ((logits - labels).flatten()**2).tolist()\n",
    "    \n",
    "    # Compute accuracy \n",
    "    # Based on the fact that the rounded score = true score only if |single_squared_errors| < 0.5\n",
    "    accuracy = sum([1 for e in single_squared_errors if e < 0.25]) / len(single_squared_errors)\n",
    "    \n",
    "    return {\"mse\": mse, \"mae\": mae, \"r2\": r2, \"accuracy\": accuracy}\n"
   ]
  },
  {
   "cell_type": "markdown",
   "id": "de07728b",
   "metadata": {},
   "source": [
    "<br><br>\n",
    "**<font size=\"4\">Trainer setup for regression</font>**\n",
    "\n",
    "<font size=\"4\">Note that we're using MSE to define loss. This means that the model will be trying to minimize the mean squared error, not maximimze accuracy, during the training steps. At the end though, we pick the model with the highest accuracy.</font>\n",
    "<br><br>\n"
   ]
  },
  {
   "cell_type": "code",
   "execution_count": 18,
   "id": "b78e4571",
   "metadata": {},
   "outputs": [],
   "source": [
    "training_args = TrainingArguments(\n",
    "    output_dir=\"../models/bert-fine-tuned-regression-2\",\n",
    "    learning_rate=LEARNING_RATE,\n",
    "    per_device_train_batch_size=BATCH_SIZE,\n",
    "    per_device_eval_batch_size=BATCH_SIZE,\n",
    "    num_train_epochs=EPOCHS,\n",
    "    evaluation_strategy=\"epoch\",\n",
    "    save_strategy=\"epoch\",\n",
    "    save_total_limit=2,\n",
    "    metric_for_best_model=\"accuracy\",\n",
    "    load_best_model_at_end=True,\n",
    "    weight_decay=0.01,\n",
    ")\n",
    "\n",
    "class RegressionTrainer(Trainer):\n",
    "    def compute_loss(self, model, inputs, return_outputs=False):\n",
    "        labels = inputs.pop(\"labels\")\n",
    "        outputs = model(**inputs)\n",
    "        logits = outputs[0][:, 0]\n",
    "        loss = torch.nn.functional.mse_loss(logits, labels)\n",
    "        return (loss, outputs) if return_outputs else loss\n",
    "        \n",
    "trainer = RegressionTrainer(\n",
    "    model=model,\n",
    "    args=training_args,\n",
    "    train_dataset=final_ds[\"train\"],\n",
    "    eval_dataset=final_ds[\"validation\"],\n",
    "    compute_metrics=compute_metrics_for_regression\n",
    ")\n"
   ]
  },
  {
   "cell_type": "markdown",
   "id": "f8bba5e2",
   "metadata": {},
   "source": [
    "<br><br>\n",
    "**<font size=\"4\">Run the trainer**</font>\n",
    "\n",
    "<font size=\"4\">Note that the accuracy never quite reaches the level of the classification model. \n",
    "The best model is at epoch 9, where we reach an accuracy of .51 and an R2 of about .48.\n",
    "Once again, this is decent but not great performance by ML standards. So it looks like \n",
    "structuring the problem as a regression problem didn't actually help in this case.</font>\n",
    "<br><br>"
   ]
  },
  {
   "cell_type": "code",
   "execution_count": 19,
   "id": "7a5e1f52",
   "metadata": {
    "scrolled": true
   },
   "outputs": [
    {
     "name": "stderr",
     "output_type": "stream",
     "text": [
      "/home/paul/miniconda3/envs/bert/lib/python3.11/site-packages/transformers/optimization.py:407: FutureWarning: This implementation of AdamW is deprecated and will be removed in a future version. Use the PyTorch implementation torch.optim.AdamW instead, or set `no_deprecation_warning=True` to disable this warning\n",
      "  warnings.warn(\n"
     ]
    },
    {
     "data": {
      "text/html": [
       "\n",
       "    <div>\n",
       "      \n",
       "      <progress value='11840' max='11840' style='width:300px; height:20px; vertical-align: middle;'></progress>\n",
       "      [11840/11840 1:03:22, Epoch 20/20]\n",
       "    </div>\n",
       "    <table border=\"1\" class=\"dataframe\">\n",
       "  <thead>\n",
       " <tr style=\"text-align: left;\">\n",
       "      <th>Epoch</th>\n",
       "      <th>Training Loss</th>\n",
       "      <th>Validation Loss</th>\n",
       "      <th>Mse</th>\n",
       "      <th>Mae</th>\n",
       "      <th>R2</th>\n",
       "      <th>Accuracy</th>\n",
       "    </tr>\n",
       "  </thead>\n",
       "  <tbody>\n",
       "    <tr>\n",
       "      <td>1</td>\n",
       "      <td>0.976500</td>\n",
       "      <td>0.765476</td>\n",
       "      <td>0.765476</td>\n",
       "      <td>0.701393</td>\n",
       "      <td>0.387599</td>\n",
       "      <td>0.420685</td>\n",
       "    </tr>\n",
       "    <tr>\n",
       "      <td>2</td>\n",
       "      <td>0.662500</td>\n",
       "      <td>0.735262</td>\n",
       "      <td>0.735262</td>\n",
       "      <td>0.677976</td>\n",
       "      <td>0.411770</td>\n",
       "      <td>0.452728</td>\n",
       "    </tr>\n",
       "    <tr>\n",
       "      <td>3</td>\n",
       "      <td>0.496200</td>\n",
       "      <td>0.806769</td>\n",
       "      <td>0.806769</td>\n",
       "      <td>0.696172</td>\n",
       "      <td>0.354563</td>\n",
       "      <td>0.457487</td>\n",
       "    </tr>\n",
       "    <tr>\n",
       "      <td>4</td>\n",
       "      <td>0.366600</td>\n",
       "      <td>0.707546</td>\n",
       "      <td>0.707546</td>\n",
       "      <td>0.651216</td>\n",
       "      <td>0.433944</td>\n",
       "      <td>0.477157</td>\n",
       "    </tr>\n",
       "    <tr>\n",
       "      <td>5</td>\n",
       "      <td>0.237600</td>\n",
       "      <td>0.732646</td>\n",
       "      <td>0.732646</td>\n",
       "      <td>0.662443</td>\n",
       "      <td>0.413863</td>\n",
       "      <td>0.476523</td>\n",
       "    </tr>\n",
       "    <tr>\n",
       "      <td>6</td>\n",
       "      <td>0.124600</td>\n",
       "      <td>0.673138</td>\n",
       "      <td>0.673138</td>\n",
       "      <td>0.633054</td>\n",
       "      <td>0.461472</td>\n",
       "      <td>0.495241</td>\n",
       "    </tr>\n",
       "    <tr>\n",
       "      <td>7</td>\n",
       "      <td>0.094400</td>\n",
       "      <td>0.719492</td>\n",
       "      <td>0.719492</td>\n",
       "      <td>0.654157</td>\n",
       "      <td>0.424387</td>\n",
       "      <td>0.490482</td>\n",
       "    </tr>\n",
       "    <tr>\n",
       "      <td>8</td>\n",
       "      <td>0.079900</td>\n",
       "      <td>0.671993</td>\n",
       "      <td>0.671993</td>\n",
       "      <td>0.630468</td>\n",
       "      <td>0.462387</td>\n",
       "      <td>0.492703</td>\n",
       "    </tr>\n",
       "    <tr>\n",
       "      <td>9</td>\n",
       "      <td>0.069200</td>\n",
       "      <td>0.651483</td>\n",
       "      <td>0.651483</td>\n",
       "      <td>0.620089</td>\n",
       "      <td>0.478796</td>\n",
       "      <td>0.514911</td>\n",
       "    </tr>\n",
       "    <tr>\n",
       "      <td>10</td>\n",
       "      <td>0.058400</td>\n",
       "      <td>0.686449</td>\n",
       "      <td>0.686449</td>\n",
       "      <td>0.629062</td>\n",
       "      <td>0.450822</td>\n",
       "      <td>0.496193</td>\n",
       "    </tr>\n",
       "    <tr>\n",
       "      <td>11</td>\n",
       "      <td>0.042500</td>\n",
       "      <td>0.667087</td>\n",
       "      <td>0.667087</td>\n",
       "      <td>0.622737</td>\n",
       "      <td>0.466312</td>\n",
       "      <td>0.506345</td>\n",
       "    </tr>\n",
       "    <tr>\n",
       "      <td>12</td>\n",
       "      <td>0.035500</td>\n",
       "      <td>0.701618</td>\n",
       "      <td>0.701618</td>\n",
       "      <td>0.626327</td>\n",
       "      <td>0.438686</td>\n",
       "      <td>0.503807</td>\n",
       "    </tr>\n",
       "    <tr>\n",
       "      <td>13</td>\n",
       "      <td>0.027900</td>\n",
       "      <td>0.656469</td>\n",
       "      <td>0.656469</td>\n",
       "      <td>0.588807</td>\n",
       "      <td>0.474807</td>\n",
       "      <td>0.514277</td>\n",
       "    </tr>\n",
       "    <tr>\n",
       "      <td>14</td>\n",
       "      <td>0.023800</td>\n",
       "      <td>0.716480</td>\n",
       "      <td>0.716480</td>\n",
       "      <td>0.619236</td>\n",
       "      <td>0.426796</td>\n",
       "      <td>0.507931</td>\n",
       "    </tr>\n",
       "    <tr>\n",
       "      <td>15</td>\n",
       "      <td>0.018800</td>\n",
       "      <td>0.704038</td>\n",
       "      <td>0.704038</td>\n",
       "      <td>0.608484</td>\n",
       "      <td>0.436751</td>\n",
       "      <td>0.501269</td>\n",
       "    </tr>\n",
       "    <tr>\n",
       "      <td>16</td>\n",
       "      <td>0.015700</td>\n",
       "      <td>0.673905</td>\n",
       "      <td>0.673905</td>\n",
       "      <td>0.592476</td>\n",
       "      <td>0.460858</td>\n",
       "      <td>0.512056</td>\n",
       "    </tr>\n",
       "    <tr>\n",
       "      <td>17</td>\n",
       "      <td>0.011700</td>\n",
       "      <td>0.678308</td>\n",
       "      <td>0.678308</td>\n",
       "      <td>0.589629</td>\n",
       "      <td>0.457335</td>\n",
       "      <td>0.510787</td>\n",
       "    </tr>\n",
       "    <tr>\n",
       "      <td>18</td>\n",
       "      <td>0.009700</td>\n",
       "      <td>0.705624</td>\n",
       "      <td>0.705624</td>\n",
       "      <td>0.603000</td>\n",
       "      <td>0.435482</td>\n",
       "      <td>0.506980</td>\n",
       "    </tr>\n",
       "    <tr>\n",
       "      <td>19</td>\n",
       "      <td>0.008500</td>\n",
       "      <td>0.688738</td>\n",
       "      <td>0.688738</td>\n",
       "      <td>0.593730</td>\n",
       "      <td>0.448991</td>\n",
       "      <td>0.508249</td>\n",
       "    </tr>\n",
       "    <tr>\n",
       "      <td>20</td>\n",
       "      <td>0.007900</td>\n",
       "      <td>0.685896</td>\n",
       "      <td>0.685896</td>\n",
       "      <td>0.593363</td>\n",
       "      <td>0.451264</td>\n",
       "      <td>0.509835</td>\n",
       "    </tr>\n",
       "  </tbody>\n",
       "</table><p>"
      ],
      "text/plain": [
       "<IPython.core.display.HTML object>"
      ]
     },
     "metadata": {},
     "output_type": "display_data"
    },
    {
     "data": {
      "text/plain": [
       "TrainOutput(global_step=11840, training_loss=0.15213875009401426, metrics={'train_runtime': 3802.5887, 'train_samples_per_second': 49.74, 'train_steps_per_second': 3.114, 'total_flos': 2.488218909625344e+16, 'train_loss': 0.15213875009401426, 'epoch': 20.0})"
      ]
     },
     "execution_count": 19,
     "metadata": {},
     "output_type": "execute_result"
    }
   ],
   "source": [
    "trainer.train()"
   ]
  },
  {
   "cell_type": "markdown",
   "id": "31fa130f",
   "metadata": {},
   "source": [
    "<br><br>\n",
    "**<font size=\"4\">Run evaluation on the held-out test set</font>**\n",
    "\n",
    "<font size=\"4\">On the test set, we get an accuracy of about .51 and an R2 of about .50, so the model doesn't look like it overfit. We're in good shape.</font>\n",
    "<br><br>"
   ]
  },
  {
   "cell_type": "code",
   "execution_count": 20,
   "id": "fbaee1fa",
   "metadata": {},
   "outputs": [
    {
     "data": {
      "text/html": [
       "\n",
       "    <div>\n",
       "      \n",
       "      <progress value='198' max='198' style='width:300px; height:20px; vertical-align: middle;'></progress>\n",
       "      [198/198 00:18]\n",
       "    </div>\n",
       "    "
      ],
      "text/plain": [
       "<IPython.core.display.HTML object>"
      ]
     },
     "metadata": {},
     "output_type": "display_data"
    },
    {
     "name": "stdout",
     "output_type": "stream",
     "text": [
      "{'eval_loss': 0.6273961067199707, 'eval_mse': 0.6273961663246155, 'eval_mae': 0.6109377145767212, 'eval_r2': 0.4965600918465888, 'eval_accuracy': 0.513162067871868, 'eval_runtime': 18.3219, 'eval_samples_per_second': 172.089, 'eval_steps_per_second': 10.807, 'epoch': 20.0}\n"
     ]
    }
   ],
   "source": [
    "trainer.eval_dataset = final_ds[\"test\"]\n",
    "evaluation = trainer.evaluate()\n",
    "print(evaluation)"
   ]
  },
  {
   "cell_type": "markdown",
   "id": "1e091afe",
   "metadata": {},
   "source": [
    "<br><br>\n",
    "**<font size=\"4\">Display confusion matrix</font>**\n",
    "\n",
    "<font size=\"4\">The classification results look pretty similar if we use the regression model to classify our results\n",
    "(by rounding the regression values to the nearest integer)</font>\n",
    "<br><br>"
   ]
  },
  {
   "cell_type": "code",
   "execution_count": 21,
   "id": "eefedb08",
   "metadata": {},
   "outputs": [
    {
     "name": "stdout",
     "output_type": "stream",
     "text": [
      "                                                   Text Score Prediction\n",
      "0     \\nUh-hmm.\\nUm, uh, I - yeah, I like going to t...     3   3.988986\n",
      "1     I agree with that because when we go to the  w...     3    3.03876\n",
      "2     I do believe students should have some form of...     5   5.124685\n",
      "3     I think that it is important for college stude...     2   1.082292\n",
      "4     I agree with the statement that it is importan...     3   3.228732\n",
      "...                                                 ...   ...        ...\n",
      "3148  \\nI'm sorry.  Come again.\\nIt would have been ...     5   5.205911\n",
      "3149  To smoke does harm to you. To smoke makes your...     2   1.505218\n",
      "3150  \\nOkay.  Uh, a few weeks ago, my cousin and - ...     4   3.215191\n",
      "3151  I agree with the statement that smoking should...     3   4.310644\n",
      "3152  \\nYes.\\nJust walk around.\\nRecently, maybe jus...     5   4.008104\n",
      "\n",
      "[3153 rows x 3 columns]\n"
     ]
    },
    {
     "data": {
      "image/png": "[encoded data removed]",
      "text/plain": [
       "<Figure size 640x480 with 2 Axes>"
      ]
     },
     "metadata": {},
     "output_type": "display_data"
    }
   ],
   "source": [
    "import math\n",
    "import pandas as pd\n",
    "\n",
    "nb_batches = math.ceil(len(raw_test_ds)/BATCH_SIZE)\n",
    "y_preds = []\n",
    "\n",
    "for i in range(nb_batches):\n",
    "    input_texts = raw_test_ds[i * BATCH_SIZE: (i+1) * BATCH_SIZE][\"text\"]\n",
    "    input_labels = raw_test_ds[i * BATCH_SIZE: (i+1) * BATCH_SIZE][\"score\"]\n",
    "    encoded = tokenizer(input_texts, truncation=True, padding=\"max_length\", max_length=256, return_tensors=\"pt\").to(\"cuda\")\n",
    "    y_preds += model(**encoded).logits.reshape(-1).tolist()\n",
    "\n",
    "\n",
    "df = pd.DataFrame([raw_test_ds[\"text\"], raw_test_ds[\"score\"], y_preds], [\"Text\", \"Score\", \"Prediction\"]).T\n",
    "print(df)\n",
    "df['Score'] = df['Score'].astype(int)\n",
    "df['Prediction'] = df['Prediction'].astype('float')\n",
    "df['Rounded'] = df['Prediction'].round()\n",
    "\n",
    "confusion_matrix = metrics.confusion_matrix(df['Score'], df['Rounded'])\n",
    "cm_display = metrics.ConfusionMatrixDisplay(confusion_matrix = confusion_matrix, display_labels = ['A1', 'B1_1', 'B1_2', 'B2', 'ENS'])\n",
    "\n",
    "cm_display.plot()\n",
    "plt.show()"
   ]
  },
  {
   "cell_type": "markdown",
   "id": "e0456404",
   "metadata": {},
   "source": [
    "<br><br>\n",
    "**<font size=\"4\">Check Quadratic Weighted Kappa</font>**\n",
    "\n",
    "<font size=\"4\">And once again, QWK is near .68. Not great, but not bad.</font>\n",
    "<br><br>"
   ]
  },
  {
   "cell_type": "code",
   "execution_count": 22,
   "id": "19a04896",
   "metadata": {},
   "outputs": [
    {
     "data": {
      "text/plain": [
       "0.6801656978998348"
      ]
     },
     "execution_count": 22,
     "metadata": {},
     "output_type": "execute_result"
    }
   ],
   "source": [
    "quadratic_weighted_kappa(df['Score'], df['Rounded'], 0, 6)"
   ]
  },
  {
   "cell_type": "code",
   "execution_count": null,
   "id": "c63f1b12",
   "metadata": {},
   "outputs": [],
   "source": []
  },
  {
   "cell_type": "code",
   "execution_count": null,
   "id": "e7ece827",
   "metadata": {},
   "outputs": [],
   "source": []
  }
 ],
 "metadata": {
  "kernelspec": {
   "display_name": "Python 3 (ipykernel)",
   "language": "python",
   "name": "python3"
  },
  "language_info": {
   "codemirror_mode": {
    "name": "ipython",
    "version": 3
   },
   "file_extension": ".py",
   "mimetype": "text/x-python",
   "name": "python",
   "nbconvert_exporter": "python",
   "pygments_lexer": "ipython3",
   "version": "3.11.3"
  }
 },
 "nbformat": 4,
 "nbformat_minor": 5
}
